{
  "nbformat": 4,
  "nbformat_minor": 0,
  "metadata": {
    "colab": {
      "name": "project_01.ipynb",
      "provenance": [],
      "collapsed_sections": []
    },
    "kernelspec": {
      "name": "python3",
      "display_name": "Python 3"
    },
    "language_info": {
      "name": "python"
    },
    "accelerator": "GPU"
  },
  "cells": [
    {
      "cell_type": "code",
      "metadata": {
        "id": "nT0lwc2aLmTu",
        "colab": {
          "base_uri": "https://localhost:8080/"
        },
        "outputId": "c688ae73-09ea-4c7a-86f5-011de1a20095"
      },
      "source": [
        "%pip install transformers"
      ],
      "execution_count": 1,
      "outputs": [
        {
          "output_type": "stream",
          "name": "stdout",
          "text": [
            "Collecting transformers\n",
            "  Downloading transformers-4.12.3-py3-none-any.whl (3.1 MB)\n",
            "\u001b[K     |████████████████████████████████| 3.1 MB 6.7 MB/s \n",
            "\u001b[?25hRequirement already satisfied: importlib-metadata in /usr/local/lib/python3.7/dist-packages (from transformers) (4.8.1)\n",
            "Collecting sacremoses\n",
            "  Downloading sacremoses-0.0.46-py3-none-any.whl (895 kB)\n",
            "\u001b[K     |████████████████████████████████| 895 kB 52.8 MB/s \n",
            "\u001b[?25hRequirement already satisfied: regex!=2019.12.17 in /usr/local/lib/python3.7/dist-packages (from transformers) (2019.12.20)\n",
            "Requirement already satisfied: requests in /usr/local/lib/python3.7/dist-packages (from transformers) (2.23.0)\n",
            "Requirement already satisfied: filelock in /usr/local/lib/python3.7/dist-packages (from transformers) (3.3.2)\n",
            "Collecting pyyaml>=5.1\n",
            "  Downloading PyYAML-6.0-cp37-cp37m-manylinux_2_5_x86_64.manylinux1_x86_64.manylinux_2_12_x86_64.manylinux2010_x86_64.whl (596 kB)\n",
            "\u001b[K     |████████████████████████████████| 596 kB 51.0 MB/s \n",
            "\u001b[?25hRequirement already satisfied: tqdm>=4.27 in /usr/local/lib/python3.7/dist-packages (from transformers) (4.62.3)\n",
            "Collecting tokenizers<0.11,>=0.10.1\n",
            "  Downloading tokenizers-0.10.3-cp37-cp37m-manylinux_2_5_x86_64.manylinux1_x86_64.manylinux_2_12_x86_64.manylinux2010_x86_64.whl (3.3 MB)\n",
            "\u001b[K     |████████████████████████████████| 3.3 MB 57.0 MB/s \n",
            "\u001b[?25hCollecting huggingface-hub<1.0,>=0.1.0\n",
            "  Downloading huggingface_hub-0.1.2-py3-none-any.whl (59 kB)\n",
            "\u001b[K     |████████████████████████████████| 59 kB 5.1 MB/s \n",
            "\u001b[?25hRequirement already satisfied: packaging>=20.0 in /usr/local/lib/python3.7/dist-packages (from transformers) (21.2)\n",
            "Requirement already satisfied: numpy>=1.17 in /usr/local/lib/python3.7/dist-packages (from transformers) (1.19.5)\n",
            "Requirement already satisfied: typing-extensions>=3.7.4.3 in /usr/local/lib/python3.7/dist-packages (from huggingface-hub<1.0,>=0.1.0->transformers) (3.10.0.2)\n",
            "Requirement already satisfied: pyparsing<3,>=2.0.2 in /usr/local/lib/python3.7/dist-packages (from packaging>=20.0->transformers) (2.4.7)\n",
            "Requirement already satisfied: zipp>=0.5 in /usr/local/lib/python3.7/dist-packages (from importlib-metadata->transformers) (3.6.0)\n",
            "Requirement already satisfied: certifi>=2017.4.17 in /usr/local/lib/python3.7/dist-packages (from requests->transformers) (2021.10.8)\n",
            "Requirement already satisfied: urllib3!=1.25.0,!=1.25.1,<1.26,>=1.21.1 in /usr/local/lib/python3.7/dist-packages (from requests->transformers) (1.24.3)\n",
            "Requirement already satisfied: idna<3,>=2.5 in /usr/local/lib/python3.7/dist-packages (from requests->transformers) (2.10)\n",
            "Requirement already satisfied: chardet<4,>=3.0.2 in /usr/local/lib/python3.7/dist-packages (from requests->transformers) (3.0.4)\n",
            "Requirement already satisfied: joblib in /usr/local/lib/python3.7/dist-packages (from sacremoses->transformers) (1.1.0)\n",
            "Requirement already satisfied: six in /usr/local/lib/python3.7/dist-packages (from sacremoses->transformers) (1.15.0)\n",
            "Requirement already satisfied: click in /usr/local/lib/python3.7/dist-packages (from sacremoses->transformers) (7.1.2)\n",
            "Installing collected packages: pyyaml, tokenizers, sacremoses, huggingface-hub, transformers\n",
            "  Attempting uninstall: pyyaml\n",
            "    Found existing installation: PyYAML 3.13\n",
            "    Uninstalling PyYAML-3.13:\n",
            "      Successfully uninstalled PyYAML-3.13\n",
            "Successfully installed huggingface-hub-0.1.2 pyyaml-6.0 sacremoses-0.0.46 tokenizers-0.10.3 transformers-4.12.3\n"
          ]
        }
      ]
    },
    {
      "cell_type": "code",
      "metadata": {
        "colab": {
          "base_uri": "https://localhost:8080/"
        },
        "id": "6FvFbF72d-R-",
        "outputId": "f39a1d97-c331-4d3f-e9f8-9c294a6e3c08"
      },
      "source": [
        "!git clone github.com/huggingface/transformers"
      ],
      "execution_count": null,
      "outputs": [
        {
          "output_type": "stream",
          "name": "stderr",
          "text": [
            "UsageError: Line magic function `%git` not found.\n"
          ]
        }
      ]
    },
    {
      "cell_type": "code",
      "metadata": {
        "colab": {
          "base_uri": "https://localhost:8080/"
        },
        "id": "i9cOHjukZQt6",
        "outputId": "5519d7ed-fbc2-44e8-f2b3-94041abf97ef"
      },
      "source": [
        "%cd /content"
      ],
      "execution_count": 38,
      "outputs": [
        {
          "output_type": "stream",
          "name": "stdout",
          "text": [
            "/content\n"
          ]
        }
      ]
    },
    {
      "cell_type": "code",
      "metadata": {
        "colab": {
          "base_uri": "https://localhost:8080/"
        },
        "id": "lrVHQSUcgnhG",
        "outputId": "fdcfd515-110a-458c-b14d-7d88b9de67f5"
      },
      "source": [
        "!python gen_token.py"
      ],
      "execution_count": 39,
      "outputs": [
        {
          "output_type": "stream",
          "name": "stdout",
          "text": [
            "[00:00:00] Pre-processing files (55 Mo)             ░░░░░░░░                  0%\n",
            "\u001b[2K\u001b[1B\u001b[1A[00:00:00] Pre-processing files (55 Mo)             ░░░░░░░░                  1%\n",
            "\u001b[2K\u001b[1B\u001b[1A[00:00:00] Pre-processing files (55 Mo)             ░░░░░░░░                  2%\n",
            "\u001b[2K\u001b[1B\u001b[1A[00:00:00] Pre-processing files (55 Mo)             ░░░░░░░░                  3%\n",
            "\u001b[2K\u001b[1B\u001b[1A[00:00:00] Pre-processing files (55 Mo)             ░░░░░░░░                  4%\n",
            "\u001b[2K\u001b[1B\u001b[1A[00:00:01] Pre-processing files (55 Mo)             ░░░░░░░░                  5%\n",
            "\u001b[2K\u001b[1B\u001b[1A[00:00:01] Pre-processing files (55 Mo)             ░░░░░░░░                  6%\n",
            "\u001b[2K\u001b[1B\u001b[1A[00:00:01] Pre-processing files (55 Mo)             ░░░░░░░░                  7%\n",
            "\u001b[2K\u001b[1B\u001b[1A[00:00:01] Pre-processing files (55 Mo)             ░░░░░░░░                  8%\n",
            "\u001b[2K\u001b[1B\u001b[1A[00:00:02] Pre-processing files (55 Mo)             ░░░░░░░░                  9%\n",
            "\u001b[2K\u001b[1B\u001b[1A[00:00:02] Pre-processing files (55 Mo)             ░░░░░░░░                 10%\n",
            "\u001b[2K\u001b[1B\u001b[1A[00:00:02] Pre-processing files (55 Mo)             ░░░░░░░░                 11%\n",
            "\u001b[2K\u001b[1B\u001b[1A[00:00:02] Pre-processing files (55 Mo)             ░░░░░░░░                 12%\n",
            "\u001b[2K\u001b[1B\u001b[1A[00:00:02] Pre-processing files (55 Mo)             █░░░░░░░                 13%\n",
            "\u001b[2K\u001b[1B\u001b[1A[00:00:03] Pre-processing files (55 Mo)             █░░░░░░░                 14%\n",
            "\u001b[2K\u001b[1B\u001b[1A[00:00:03] Pre-processing files (55 Mo)             █░░░░░░░                 15%\n",
            "\u001b[2K\u001b[1B\u001b[1A[00:00:03] Pre-processing files (55 Mo)             █░░░░░░░                 16%\n",
            "\u001b[2K\u001b[1B\u001b[1A[00:00:03] Pre-processing files (55 Mo)             █░░░░░░░                 17%\n",
            "\u001b[2K\u001b[1B\u001b[1A[00:00:04] Pre-processing files (55 Mo)             █░░░░░░░                 18%\n",
            "\u001b[2K\u001b[1B\u001b[1A[00:00:04] Pre-processing files (55 Mo)             █░░░░░░░                 19%\n",
            "\u001b[2K\u001b[1B\u001b[1A[00:00:04] Pre-processing files (55 Mo)             █░░░░░░░                 20%\n",
            "\u001b[2K\u001b[1B\u001b[1A[00:00:04] Pre-processing files (55 Mo)             █░░░░░░░                 21%\n",
            "\u001b[2K\u001b[1B\u001b[1A[00:00:05] Pre-processing files (55 Mo)             █░░░░░░░                 22%\n",
            "\u001b[2K\u001b[1B\u001b[1A[00:00:05] Pre-processing files (55 Mo)             █░░░░░░░                 23%\n",
            "\u001b[2K\u001b[1B\u001b[1A[00:00:05] Pre-processing files (55 Mo)             █░░░░░░░                 24%\n",
            "\u001b[2K\u001b[1B\u001b[1A[00:00:05] Pre-processing files (55 Mo)             ██░░░░░░                 25%\n",
            "\u001b[2K\u001b[1B\u001b[1A[00:00:05] Pre-processing files (55 Mo)             ██░░░░░░                 26%\n",
            "\u001b[2K\u001b[1B\u001b[1A[00:00:06] Pre-processing files (55 Mo)             ██░░░░░░                 27%\n",
            "\u001b[2K\u001b[1B\u001b[1A[00:00:06] Pre-processing files (55 Mo)             ██░░░░░░                 28%\n",
            "\u001b[2K\u001b[1B\u001b[1A[00:00:06] Pre-processing files (55 Mo)             ██░░░░░░                 29%\n",
            "\u001b[2K\u001b[1B\u001b[1A[00:00:06] Pre-processing files (55 Mo)             ██░░░░░░                 30%\n",
            "\u001b[2K\u001b[1B\u001b[1A[00:00:07] Pre-processing files (55 Mo)             ██░░░░░░                 31%\n",
            "\u001b[2K\u001b[1B\u001b[1A[00:00:07] Pre-processing files (55 Mo)             ██░░░░░░                 32%\n",
            "\u001b[2K\u001b[1B\u001b[1A[00:00:07] Pre-processing files (55 Mo)             ██░░░░░░                 33%\n",
            "\u001b[2K\u001b[1B\u001b[1A[00:00:07] Pre-processing files (55 Mo)             ██░░░░░░                 34%\n",
            "\u001b[2K\u001b[1B\u001b[1A[00:00:07] Pre-processing files (55 Mo)             ██░░░░░░                 35%\n",
            "\u001b[2K\u001b[1B\u001b[1A[00:00:08] Pre-processing files (55 Mo)             ██░░░░░░                 36%\n",
            "\u001b[2K\u001b[1B\u001b[1A[00:00:08] Pre-processing files (55 Mo)             ██░░░░░░                 37%\n",
            "\u001b[2K\u001b[1B\u001b[1A[00:00:08] Pre-processing files (55 Mo)             ███░░░░░                 38%\n",
            "\u001b[2K\u001b[1B\u001b[1A[00:00:08] Pre-processing files (55 Mo)             ███░░░░░                 39%\n",
            "\u001b[2K\u001b[1B\u001b[1A[00:00:09] Pre-processing files (55 Mo)             ███░░░░░                 40%\n",
            "\u001b[2K\u001b[1B\u001b[1A[00:00:09] Pre-processing files (55 Mo)             ███░░░░░                 41%\n",
            "\u001b[2K\u001b[1B\u001b[1A[00:00:09] Pre-processing files (55 Mo)             ███░░░░░                 42%\n",
            "\u001b[2K\u001b[1B\u001b[1A[00:00:09] Pre-processing files (55 Mo)             ███░░░░░                 43%\n",
            "\u001b[2K\u001b[1B\u001b[1A[00:00:09] Pre-processing files (55 Mo)             ███░░░░░                 44%\n",
            "\u001b[2K\u001b[1B\u001b[1A[00:00:10] Pre-processing files (55 Mo)             ███░░░░░                 45%\n",
            "\u001b[2K\u001b[1B\u001b[1A[00:00:10] Pre-processing files (55 Mo)             ███░░░░░                 46%\n",
            "\u001b[2K\u001b[1B\u001b[1A[00:00:10] Pre-processing files (55 Mo)             ███░░░░░                 47%\n",
            "\u001b[2K\u001b[1B\u001b[1A[00:00:10] Pre-processing files (55 Mo)             ███░░░░░                 48%\n",
            "\u001b[2K\u001b[1B\u001b[1A[00:00:11] Pre-processing files (55 Mo)             ███░░░░░                 49%\n",
            "\u001b[2K\u001b[1B\u001b[1A[00:00:11] Pre-processing files (55 Mo)             ████░░░░                 50%\n",
            "\u001b[2K\u001b[1B\u001b[1A[00:00:11] Pre-processing files (55 Mo)             ████░░░░                 51%\n",
            "\u001b[2K\u001b[1B\u001b[1A[00:00:11] Pre-processing files (55 Mo)             ████░░░░                 52%\n",
            "\u001b[2K\u001b[1B\u001b[1A[00:00:12] Pre-processing files (55 Mo)             ████░░░░                 53%\n",
            "\u001b[2K\u001b[1B\u001b[1A[00:00:12] Pre-processing files (55 Mo)             ████░░░░                 54%\n",
            "\u001b[2K\u001b[1B\u001b[1A[00:00:12] Pre-processing files (55 Mo)             ████░░░░                 55%\n",
            "\u001b[2K\u001b[1B\u001b[1A[00:00:12] Pre-processing files (55 Mo)             ████░░░░                 56%\n",
            "\u001b[2K\u001b[1B\u001b[1A[00:00:13] Pre-processing files (55 Mo)             ████░░░░                 57%\n",
            "\u001b[2K\u001b[1B\u001b[1A[00:00:13] Pre-processing files (55 Mo)             ████░░░░                 58%\n",
            "\u001b[2K\u001b[1B\u001b[1A[00:00:13] Pre-processing files (55 Mo)             ████░░░░                 59%\n",
            "\u001b[2K\u001b[1B\u001b[1A[00:00:13] Pre-processing files (55 Mo)             ████░░░░                 60%\n",
            "\u001b[2K\u001b[1B\u001b[1A[00:00:13] Pre-processing files (55 Mo)             ████░░░░                 61%\n",
            "\u001b[2K\u001b[1B\u001b[1A[00:00:14] Pre-processing files (55 Mo)             ████░░░░                 62%\n",
            "\u001b[2K\u001b[1B\u001b[1A[00:00:14] Pre-processing files (55 Mo)             █████░░░                 63%\n",
            "\u001b[2K\u001b[1B\u001b[1A[00:00:14] Pre-processing files (55 Mo)             █████░░░                 64%\n",
            "\u001b[2K\u001b[1B\u001b[1A[00:00:14] Pre-processing files (55 Mo)             █████░░░                 65%\n",
            "\u001b[2K\u001b[1B\u001b[1A[00:00:15] Pre-processing files (55 Mo)             █████░░░                 66%\n",
            "\u001b[2K\u001b[1B\u001b[1A[00:00:15] Pre-processing files (55 Mo)             █████░░░                 67%\n",
            "\u001b[2K\u001b[1B\u001b[1A[00:00:15] Pre-processing files (55 Mo)             █████░░░                 68%\n",
            "\u001b[2K\u001b[1B\u001b[1A[00:00:15] Pre-processing files (55 Mo)             █████░░░                 69%\n",
            "\u001b[2K\u001b[1B\u001b[1A[00:00:16] Pre-processing files (55 Mo)             █████░░░                 70%\n",
            "\u001b[2K\u001b[1B\u001b[1A[00:00:16] Pre-processing files (55 Mo)             █████░░░                 71%\n",
            "\u001b[2K\u001b[1B\u001b[1A[00:00:16] Pre-processing files (55 Mo)             █████░░░                 72%\n",
            "\u001b[2K\u001b[1B\u001b[1A[00:00:16] Pre-processing files (55 Mo)             █████░░░                 73%\n",
            "\u001b[2K\u001b[1B\u001b[1A[00:00:16] Pre-processing files (55 Mo)             █████░░░                 74%\n",
            "\u001b[2K\u001b[1B\u001b[1A[00:00:17] Pre-processing files (55 Mo)             ██████░░                 75%\n",
            "\u001b[2K\u001b[1B\u001b[1A[00:00:17] Pre-processing files (55 Mo)             ██████░░                 76%\n",
            "\u001b[2K\u001b[1B\u001b[1A[00:00:17] Pre-processing files (55 Mo)             ██████░░                 77%\n",
            "\u001b[2K\u001b[1B\u001b[1A[00:00:17] Pre-processing files (55 Mo)             ██████░░                 78%\n",
            "\u001b[2K\u001b[1B\u001b[1A[00:00:18] Pre-processing files (55 Mo)             ██████░░                 79%\n",
            "\u001b[2K\u001b[1B\u001b[1A[00:00:18] Pre-processing files (55 Mo)             ██████░░                 80%\n",
            "\u001b[2K\u001b[1B\u001b[1A[00:00:18] Pre-processing files (55 Mo)             ██████░░                 81%\n",
            "\u001b[2K\u001b[1B\u001b[1A[00:00:18] Pre-processing files (55 Mo)             ██████░░                 82%\n",
            "\u001b[2K\u001b[1B\u001b[1A[00:00:19] Pre-processing files (55 Mo)             ██████░░                 83%\n",
            "\u001b[2K\u001b[1B\u001b[1A[00:00:19] Pre-processing files (55 Mo)             ██████░░                 84%\n",
            "\u001b[2K\u001b[1B\u001b[1A[00:00:19] Pre-processing files (55 Mo)             ██████░░                 85%\n",
            "\u001b[2K\u001b[1B\u001b[1A[00:00:19] Pre-processing files (55 Mo)             ██████░░                 86%\n",
            "\u001b[2K\u001b[1B\u001b[1A[00:00:20] Pre-processing files (55 Mo)             ██████░░                 87%\n",
            "\u001b[2K\u001b[1B\u001b[1A[00:00:20] Pre-processing files (55 Mo)             ███████░                 88%\n",
            "\u001b[2K\u001b[1B\u001b[1A[00:00:20] Pre-processing files (55 Mo)             ███████░                 89%\n",
            "\u001b[2K\u001b[1B\u001b[1A[00:00:20] Pre-processing files (55 Mo)             ███████░                 90%\n",
            "\u001b[2K\u001b[1B\u001b[1A[00:00:20] Pre-processing files (55 Mo)             ███████░                 91%\n",
            "\u001b[2K\u001b[1B\u001b[1A[00:00:21] Pre-processing files (55 Mo)             ███████░                 92%\n",
            "\u001b[2K\u001b[1B\u001b[1A[00:00:21] Pre-processing files (55 Mo)             ███████░                 93%\n",
            "\u001b[2K\u001b[1B\u001b[1A[00:00:21] Pre-processing files (55 Mo)             ███████░                 94%\n",
            "\u001b[2K\u001b[1B\u001b[1A[00:00:21] Pre-processing files (55 Mo)             ███████░                 95%\n",
            "\u001b[2K\u001b[1B\u001b[1A[00:00:22] Pre-processing files (55 Mo)             ███████░                 96%\n",
            "\u001b[2K\u001b[1B\u001b[1A[00:00:22] Pre-processing files (55 Mo)             ███████░                 97%\n",
            "\u001b[2K\u001b[1B\u001b[1A[00:00:22] Pre-processing files (55 Mo)             ███████░                 98%\n",
            "\u001b[2K\u001b[1B\u001b[1A[00:00:22] Pre-processing files (55 Mo)             ███████░                 99%\n",
            "\u001b[2K\u001b[1B\u001b[1A[00:00:23] Pre-processing files (55 Mo)             ████████                100%\n",
            "[00:00:00] Tokenize words                           ████████ 0        /        0\n",
            "\u001b[2K\u001b[1B\u001b[1A[00:00:00] Tokenize words                           ██░░░░░░ 49595    /   141771\n",
            "\u001b[2K\u001b[1B\u001b[1A[00:00:00] Tokenize words                           █████░░░ 99190    /   141771\n",
            "\u001b[2K\u001b[1B\u001b[1A[00:00:00] Tokenize words                           ███████░ 138866   /   141771\n",
            "\u001b[2K\u001b[1B\u001b[1A[00:00:00] Tokenize words                           ████████ 141771   /   141771\n",
            "\n",
            "\u001b[2K\u001b[1B\u001b[1A[00:00:00] Count pairs                              ░░░░░░░░ 4251     /   141771\n",
            "\u001b[2K\u001b[1B\u001b[1A[00:00:00] Count pairs                              ░░░░░░░░ 5668     /   141771\n",
            "\u001b[2K\u001b[1B\u001b[1A[00:00:00] Count pairs                              ░░░░░░░░ 7085     /   141771\n",
            "\u001b[2K\u001b[1B\u001b[1A[00:00:00] Count pairs                              ░░░░░░░░ 8502     /   141771\n",
            "\u001b[2K\u001b[1B\u001b[1A[00:00:00] Count pairs                              ░░░░░░░░ 9919     /   141771\n",
            "\u001b[2K\u001b[1B\u001b[1A[00:00:00] Count pairs                              ░░░░░░░░ 11336    /   141771\n",
            "\u001b[2K\u001b[1B\u001b[1A[00:00:00] Count pairs                              ░░░░░░░░ 12753    /   141771\n",
            "\u001b[2K\u001b[1B\u001b[1A[00:00:01] Count pairs                              ░░░░░░░░ 14170    /   141771\n",
            "\u001b[2K\u001b[1B\u001b[1A[00:00:01] Count pairs                              ░░░░░░░░ 15587    /   141771\n",
            "\u001b[2K\u001b[1B\u001b[1A[00:00:01] Count pairs                              ░░░░░░░░ 17004    /   141771\n",
            "\u001b[2K\u001b[1B\u001b[1A[00:00:01] Count pairs                              █░░░░░░░ 18421    /   141771\n",
            "\u001b[2K\u001b[1B\u001b[1A[00:00:02] Count pairs                              █░░░░░░░ 19838    /   141771\n",
            "\u001b[2K\u001b[1B\u001b[1A[00:00:02] Count pairs                              █░░░░░░░ 21255    /   141771\n",
            "\u001b[2K\u001b[1B\u001b[1A[00:00:02] Count pairs                              █░░░░░░░ 22672    /   141771\n",
            "\u001b[2K\u001b[1B\u001b[1A[00:00:03] Count pairs                              █░░░░░░░ 24089    /   141771\n",
            "\u001b[2K\u001b[1B\u001b[1A[00:00:03] Count pairs                              █░░░░░░░ 25506    /   141771\n",
            "\u001b[2K\u001b[1B\u001b[1A[00:00:03] Count pairs                              █░░░░░░░ 26923    /   141771\n",
            "\u001b[2K\u001b[1B\u001b[1A[00:00:04] Count pairs                              █░░░░░░░ 28340    /   141771\n",
            "\u001b[2K\u001b[1B\u001b[1A[00:00:04] Count pairs                              █░░░░░░░ 29757    /   141771\n",
            "\u001b[2K\u001b[1B\u001b[1A[00:00:05] Count pairs                              █░░░░░░░ 31174    /   141771\n",
            "\u001b[2K\u001b[1B\u001b[1A[00:00:05] Count pairs                              █░░░░░░░ 32591    /   141771\n",
            "\u001b[2K\u001b[1B\u001b[1A[00:00:06] Count pairs                              █░░░░░░░ 34008    /   141771\n",
            "\u001b[2K\u001b[1B\u001b[1A[00:00:06] Count pairs                              █░░░░░░░ 35425    /   141771\n",
            "\u001b[2K\u001b[1B\u001b[1A[00:00:07] Count pairs                              ██░░░░░░ 36842    /   141771\n",
            "\u001b[2K\u001b[1B\u001b[1A[00:00:07] Count pairs                              ██░░░░░░ 38259    /   141771\n",
            "\u001b[2K\u001b[1B\u001b[1A[00:00:08] Count pairs                              ██░░░░░░ 39676    /   141771\n",
            "\u001b[2K\u001b[1B\u001b[1A[00:00:08] Count pairs                              ██░░░░░░ 41093    /   141771\n",
            "\u001b[2K\u001b[1B\u001b[1A[00:00:09] Count pairs                              ██░░░░░░ 42510    /   141771\n",
            "\u001b[2K\u001b[1B\u001b[1A[00:00:09] Count pairs                              ██░░░░░░ 43927    /   141771\n",
            "\u001b[2K\u001b[1B\u001b[1A[00:00:10] Count pairs                              ██░░░░░░ 45344    /   141771\n",
            "\u001b[2K\u001b[1B\u001b[1A[00:00:11] Count pairs                              ██░░░░░░ 46761    /   141771\n",
            "\u001b[2K\u001b[1B\u001b[1A[00:00:11] Count pairs                              ██░░░░░░ 48178    /   141771\n",
            "\u001b[2K\u001b[1B\u001b[1A[00:00:12] Count pairs                              ██░░░░░░ 49595    /   141771\n",
            "\u001b[2K\u001b[1B\u001b[1A[00:00:13] Count pairs                              ██░░░░░░ 51012    /   141771\n",
            "\u001b[2K\u001b[1B\u001b[1A[00:00:14] Count pairs                              ██░░░░░░ 52429    /   141771\n",
            "\u001b[2K\u001b[1B\u001b[1A[00:00:14] Count pairs                              ███░░░░░ 53846    /   141771\n",
            "\u001b[2K\u001b[1B\u001b[1A[00:00:15] Count pairs                              ███░░░░░ 55263    /   141771\n",
            "\u001b[2K\u001b[1B\u001b[1A[00:00:16] Count pairs                              ███░░░░░ 56680    /   141771\n",
            "\u001b[2K\u001b[1B\u001b[1A[00:00:17] Count pairs                              ███░░░░░ 58097    /   141771\n",
            "\u001b[2K\u001b[1B\u001b[1A[00:00:17] Count pairs                              ███░░░░░ 59514    /   141771\n",
            "\u001b[2K\u001b[1B\u001b[1A[00:00:18] Count pairs                              ███░░░░░ 60931    /   141771\n",
            "\u001b[2K\u001b[1B\u001b[1A[00:00:19] Count pairs                              ███░░░░░ 62348    /   141771\n",
            "\u001b[2K\u001b[1B\u001b[1A[00:00:20] Count pairs                              ███░░░░░ 63765    /   141771\n",
            "\u001b[2K\u001b[1B\u001b[1A[00:00:21] Count pairs                              ███░░░░░ 65182    /   141771\n",
            "\u001b[2K\u001b[1B\u001b[1A[00:00:22] Count pairs                              ███░░░░░ 66599    /   141771\n",
            "\u001b[2K\u001b[1B\u001b[1A[00:00:23] Count pairs                              ███░░░░░ 68016    /   141771\n",
            "\u001b[2K\u001b[1B\u001b[1A[00:00:24] Count pairs                              ███░░░░░ 69433    /   141771\n",
            "\u001b[2K\u001b[1B\u001b[1A[00:00:25] Count pairs                              ███░░░░░ 70850    /   141771\n",
            "\u001b[2K\u001b[1B\u001b[1A[00:00:26] Count pairs                              ████░░░░ 72267    /   141771\n",
            "\u001b[2K\u001b[1B\u001b[1A[00:00:27] Count pairs                              ████░░░░ 73684    /   141771\n",
            "\u001b[2K\u001b[1B\u001b[1A[00:00:28] Count pairs                              ████░░░░ 75101    /   141771\n",
            "\u001b[2K\u001b[1B\u001b[1A[00:00:29] Count pairs                              ████░░░░ 76518    /   141771\n",
            "\u001b[2K\u001b[1B\u001b[1A[00:00:30] Count pairs                              ████░░░░ 77935    /   141771\n",
            "\u001b[2K\u001b[1B\u001b[1A[00:00:31] Count pairs                              ████░░░░ 79352    /   141771\n",
            "\u001b[2K\u001b[1B\u001b[1A[00:00:32] Count pairs                              ████░░░░ 80769    /   141771\n",
            "\u001b[2K\u001b[1B\u001b[1A[00:00:33] Count pairs                              ████░░░░ 82186    /   141771\n",
            "\u001b[2K\u001b[1B\u001b[1A[00:00:35] Count pairs                              ████░░░░ 83603    /   141771\n",
            "\u001b[2K\u001b[1B\u001b[1A[00:00:36] Count pairs                              ████░░░░ 85020    /   141771\n",
            "\u001b[2K\u001b[1B\u001b[1A[00:00:37] Count pairs                              ████░░░░ 86437    /   141771\n",
            "\u001b[2K\u001b[1B\u001b[1A[00:00:38] Count pairs                              ████░░░░ 87854    /   141771\n",
            "\u001b[2K\u001b[1B\u001b[1A[00:00:39] Count pairs                              █████░░░ 89271    /   141771\n",
            "\u001b[2K\u001b[1B\u001b[1A[00:00:41] Count pairs                              █████░░░ 90688    /   141771\n",
            "\u001b[2K\u001b[1B\u001b[1A[00:00:42] Count pairs                              █████░░░ 92105    /   141771\n",
            "\u001b[2K\u001b[1B\u001b[1A[00:00:43] Count pairs                              █████░░░ 93522    /   141771\n",
            "\u001b[2K\u001b[1B\u001b[1A[00:00:45] Count pairs                              █████░░░ 94939    /   141771\n",
            "\u001b[2K\u001b[1B\u001b[1A[00:00:46] Count pairs                              █████░░░ 96356    /   141771\n",
            "\u001b[2K\u001b[1B\u001b[1A[00:00:47] Count pairs                              █████░░░ 97773    /   141771\n",
            "\u001b[2K\u001b[1B\u001b[1A[00:00:49] Count pairs                              █████░░░ 99190    /   141771\n",
            "\u001b[2K\u001b[1B\u001b[1A[00:00:50] Count pairs                              █████░░░ 100607   /   141771\n",
            "\u001b[2K\u001b[1B\u001b[1A[00:00:52] Count pairs                              █████░░░ 102024   /   141771\n",
            "\u001b[2K\u001b[1B\u001b[1A[00:00:53] Count pairs                              █████░░░ 103441   /   141771\n",
            "\u001b[2K\u001b[1B\u001b[1A[00:00:55] Count pairs                              █████░░░ 104858   /   141771\n",
            "\u001b[2K\u001b[1B\u001b[1A[00:00:56] Count pairs                              █████░░░ 106275   /   141771\n",
            "\u001b[2K\u001b[1B\u001b[1A[00:00:58] Count pairs                              ██████░░ 107692   /   141771\n",
            "\u001b[2K\u001b[1B\u001b[1A[00:00:59] Count pairs                              ██████░░ 109109   /   141771\n",
            "\u001b[2K\u001b[1B\u001b[1A[00:01:01] Count pairs                              ██████░░ 110526   /   141771\n",
            "\u001b[2K\u001b[1B\u001b[1A[00:01:02] Count pairs                              ██████░░ 111943   /   141771\n",
            "\u001b[2K\u001b[1B\u001b[1A[00:01:04] Count pairs                              ██████░░ 113360   /   141771\n",
            "\u001b[2K\u001b[1B\u001b[1A[00:01:06] Count pairs                              ██████░░ 114777   /   141771\n",
            "\u001b[2K\u001b[1B\u001b[1A[00:01:07] Count pairs                              ██████░░ 116194   /   141771\n",
            "\u001b[2K\u001b[1B\u001b[1A[00:01:09] Count pairs                              ██████░░ 117611   /   141771\n",
            "\u001b[2K\u001b[1B\u001b[1A[00:01:11] Count pairs                              ██████░░ 119028   /   141771\n",
            "\u001b[2K\u001b[1B\u001b[1A[00:01:13] Count pairs                              ██████░░ 120445   /   141771\n",
            "\u001b[2K\u001b[1B\u001b[1A[00:01:14] Count pairs                              ██████░░ 121862   /   141771\n",
            "\u001b[2K\u001b[1B\u001b[1A[00:01:16] Count pairs                              ██████░░ 123279   /   141771\n",
            "\u001b[2K\u001b[1B\u001b[1A[00:01:18] Count pairs                              ███████░ 124696   /   141771\n",
            "\u001b[2K\u001b[1B\u001b[1A[00:01:20] Count pairs                              ███████░ 126113   /   141771\n",
            "\u001b[2K\u001b[1B\u001b[1A[00:01:21] Count pairs                              ███████░ 127530   /   141771\n",
            "\u001b[2K\u001b[1B\u001b[1A[00:01:23] Count pairs                              ███████░ 128947   /   141771\n",
            "\u001b[2K\u001b[1B\u001b[1A[00:01:25] Count pairs                              ███████░ 130364   /   141771\n",
            "\u001b[2K\u001b[1B\u001b[1A[00:01:27] Count pairs                              ███████░ 131781   /   141771\n",
            "\u001b[2K\u001b[1B\u001b[1A[00:01:29] Count pairs                              ███████░ 133198   /   141771\n",
            "\u001b[2K\u001b[1B\u001b[1A[00:01:31] Count pairs                              ███████░ 134615   /   141771\n",
            "\u001b[2K\u001b[1B\u001b[1A[00:01:33] Count pairs                              ███████░ 136032   /   141771\n",
            "\u001b[2K\u001b[1B\u001b[1A[00:01:35] Count pairs                              ███████░ 137449   /   141771\n",
            "\u001b[2K\u001b[1B\u001b[1A[00:01:37] Count pairs                              ███████░ 138866   /   141771\n",
            "\u001b[2K\u001b[1B\u001b[1A[00:01:39] Count pairs                              ███████░ 140283   /   141771\n",
            "\u001b[2K\u001b[1B\u001b[1A[00:01:41] Count pairs                              ███████░ 141700   /   141771\n",
            "\u001b[2K\u001b[1B\u001b[1A[00:01:41] Count pairs                              ████████ 141771   /   141771\n",
            "\n",
            "\u001b[2K\u001b[1B\u001b[1A[00:00:00] Compute merges                           ░░░░░░░░ 520      /    52000\n",
            "\u001b[2K\u001b[1B\u001b[1A[00:00:00] Compute merges                           ░░░░░░░░ 1560     /    52000\n",
            "\u001b[2K\u001b[1B\u001b[1A[00:00:00] Compute merges                           ░░░░░░░░ 3640     /    52000\n",
            "\u001b[2K\u001b[1B\u001b[1A[00:00:00] Compute merges                           █░░░░░░░ 8320     /    52000\n",
            "\u001b[2K\u001b[1B\u001b[1A[00:00:00] Compute merges                           ██░░░░░░ 15080    /    52000\n",
            "\u001b[2K\u001b[1B\u001b[1A[00:00:00] Compute merges                           ████░░░░ 26520    /    52000\n",
            "\u001b[2K\u001b[1B\u001b[1A[00:00:00] Compute merges                           ██████░░ 40040    /    52000\n",
            "\u001b[2K\u001b[1B\u001b[1A[00:00:00] Compute merges                           ████████ 51659    /    51659\n",
            "\n"
          ]
        }
      ]
    },
    {
      "cell_type": "code",
      "metadata": {
        "colab": {
          "base_uri": "https://localhost:8080/"
        },
        "id": "ImWAIZrWiJli",
        "outputId": "315c0906-802f-4bff-c7ae-353cc9c63158"
      },
      "source": [
        "%cd transformers/examples/pytorch/language-modeling/"
      ],
      "execution_count": 41,
      "outputs": [
        {
          "output_type": "stream",
          "name": "stdout",
          "text": [
            "/content/transformers/examples/pytorch/language-modeling\n"
          ]
        }
      ]
    },
    {
      "cell_type": "code",
      "metadata": {
        "colab": {
          "base_uri": "https://localhost:8080/",
          "height": 368
        },
        "id": "OKXeDnvnLGKK",
        "outputId": "60b8991d-3ee7-432c-e207-e62e0d200cfd"
      },
      "source": [
        "from tokenizers.implementations import ByteLevelBPETokenizer\n",
        "from tokenizers.processors import gpt2Processing\n",
        "\n",
        "\n",
        "# tokenizer = ByteLevelBPETokenizer(\n",
        "#     \"./models/EsperBERTo-small/vocab.json\",\n",
        "#     \"./models/EsperBERTo-small/merges.txt\",\n",
        "# )\n",
        "# tokenizer._tokenizer.post_processor = BertProcessing(\n",
        "#     (\"</s>\", tokenizer.token_to_id(\"</s>\")),\n",
        "#     (\"<s>\", tokenizer.token_to_id(\"<s>\")),\n",
        "# )\n",
        "# tokenizer.enable_truncation(max_length=512)\n",
        "\n",
        "# print(\n",
        "#     tokenizer.encode(\"Mi estas Julien.\")\n",
        "# )\n"
      ],
      "execution_count": 46,
      "outputs": [
        {
          "output_type": "error",
          "ename": "ImportError",
          "evalue": "ignored",
          "traceback": [
            "\u001b[0;31m---------------------------------------------------------------------------\u001b[0m",
            "\u001b[0;31mImportError\u001b[0m                               Traceback (most recent call last)",
            "\u001b[0;32m<ipython-input-46-f29610b56b5e>\u001b[0m in \u001b[0;36m<module>\u001b[0;34m()\u001b[0m\n\u001b[1;32m      1\u001b[0m \u001b[0;32mfrom\u001b[0m \u001b[0mtokenizers\u001b[0m\u001b[0;34m.\u001b[0m\u001b[0mimplementations\u001b[0m \u001b[0;32mimport\u001b[0m \u001b[0mByteLevelBPETokenizer\u001b[0m\u001b[0;34m\u001b[0m\u001b[0;34m\u001b[0m\u001b[0m\n\u001b[0;32m----> 2\u001b[0;31m \u001b[0;32mfrom\u001b[0m \u001b[0mtokenizers\u001b[0m\u001b[0;34m.\u001b[0m\u001b[0mprocessors\u001b[0m \u001b[0;32mimport\u001b[0m \u001b[0mgpt2Processing\u001b[0m\u001b[0;34m\u001b[0m\u001b[0;34m\u001b[0m\u001b[0m\n\u001b[0m\u001b[1;32m      3\u001b[0m \u001b[0;34m\u001b[0m\u001b[0m\n\u001b[1;32m      4\u001b[0m \u001b[0;34m\u001b[0m\u001b[0m\n\u001b[1;32m      5\u001b[0m \u001b[0;31m# tokenizer = ByteLevelBPETokenizer(\u001b[0m\u001b[0;34m\u001b[0m\u001b[0;34m\u001b[0m\u001b[0;34m\u001b[0m\u001b[0m\n",
            "\u001b[0;31mImportError\u001b[0m: cannot import name 'gpt2Processing' from 'tokenizers.processors' (/usr/local/lib/python3.7/dist-packages/tokenizers/processors/__init__.py)",
            "",
            "\u001b[0;31m---------------------------------------------------------------------------\u001b[0;32m\nNOTE: If your import is failing due to a missing package, you can\nmanually install dependencies using either !pip or !apt.\n\nTo view examples of installing some common dependencies, click the\n\"Open Examples\" button below.\n\u001b[0;31m---------------------------------------------------------------------------\u001b[0m\n"
          ],
          "errorDetails": {
            "actions": [
              {
                "action": "open_url",
                "actionText": "Open Examples",
                "url": "/notebooks/snippets/importing_libraries.ipynb"
              }
            ]
          }
        }
      ]
    },
    {
      "cell_type": "code",
      "metadata": {
        "id": "xApQAjOYsG0K"
      },
      "source": [
        ""
      ],
      "execution_count": null,
      "outputs": []
    }
  ]
}