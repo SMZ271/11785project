{
  "nbformat": 4,
  "nbformat_minor": 0,
  "metadata": {
    "colab": {
      "name": "code_for_syllable.ipynb",
      "provenance": []
    },
    "kernelspec": {
      "name": "python3",
      "display_name": "Python 3"
    },
    "language_info": {
      "name": "python"
    }
  },
  "cells": [
    {
      "cell_type": "code",
      "metadata": {
        "id": "Cu4wT54f-R95"
      },
      "source": [
        "from google.colab import drive\n",
        "drive.mount('/content/gdrive/')"
      ],
      "execution_count": null,
      "outputs": []
    },
    {
      "cell_type": "code",
      "metadata": {
        "id": "y7e5rswP-LLb"
      },
      "source": [
        "!pip install syllabipy"
      ],
      "execution_count": null,
      "outputs": []
    },
    {
      "cell_type": "code",
      "metadata": {
        "id": "u2viCrls-R_g"
      },
      "source": [
        "import numpy as np\n",
        "import pandas as pd\n",
        "from syllabipy.sonoripy import SonoriPy\n",
        "import json"
      ],
      "execution_count": null,
      "outputs": []
    },
    {
      "cell_type": "code",
      "metadata": {
        "id": "cILoDCiH_QKw"
      },
      "source": [
        "# how to syllabify a word\n",
        "# syllable_list = SonoriPy(word)"
      ],
      "execution_count": null,
      "outputs": []
    },
    {
      "cell_type": "code",
      "metadata": {
        "id": "1lUyhFCt-SBl"
      },
      "source": [
        "# how to generate syllable-index dictionary\n",
        "origin_f=open(r'/content/gdrive/MyDrive/gpt2/gpt2/limericks_input.txt',\"r\",encoding=\"utf-8\")  # limricks dataset\n",
        "dictionary = set()\n",
        "for line in origin_f:\n",
        "  for word in line[:-1].split(' '):    \n",
        "    if word == '<|endoftext|>':\n",
        "      continue\n",
        "    dictionary = dictionary.union(set(SonoriPy(word)))"
      ],
      "execution_count": null,
      "outputs": []
    },
    {
      "cell_type": "code",
      "metadata": {
        "id": "p1_Zcscz_DTc"
      },
      "source": [
        "# store result in .json\n",
        "index2syllable = {key: value for key, value in zip(dictionary, range(len(dictionary)))}\n",
        "json_str = json.dumps(index2syllable, ensure_ascii=False, indent=4)  \n",
        "with open('/content/gdrive/MyDrive/gpt2/gpt2/index2syllable.json', 'w', encoding='utf-8') as f: # write path syllable: index\n",
        "    f.write(json_str)\n",
        "\n",
        "syllable2index = {key: value for key, value in zip(range(len(dictionary)), dictionary)}\n",
        "json_str = json.dumps(syllable2index, ensure_ascii=False, indent=4)  \n",
        "with open('/content/gdrive/MyDrive/gpt2/gpt2/syllable2index.json', 'w', encoding='utf-8') as f: # write path index: syllable\n",
        "    f.write(json_str)"
      ],
      "execution_count": null,
      "outputs": []
    },
    {
      "cell_type": "code",
      "metadata": {
        "id": "Yy0scR69_H-5"
      },
      "source": [
        "# generate dataset in which each peom has less than n syllables per word\n",
        "path = '/content/gdrive/MyDrive/gpt2/gpt2/limericks_with_word_syllable_less_than_5.txt' # write path\n",
        "origin_f=open(r'/content/gdrive/MyDrive/gpt2/gpt2/limericks_input.txt',\"r\",encoding=\"utf-8\") # read path\n",
        "f = open(path, 'w')\n",
        "count = 0\n",
        "poem = []\n",
        "for line in origin_f:\n",
        "  if line[:-1] == '<|endoftext|>': # end of a poetry\n",
        "    poem.append(line)\n",
        "    if count <= 5:\n",
        "      for data in poem:\n",
        "        f.write(data)\n",
        "    count = 0\n",
        "    poem = []\n",
        "\n",
        "  else:\n",
        "    if line == '\\n':\n",
        "        f.write(line)\n",
        "    else:\n",
        "        poem.append(line)\n",
        "        for word in line[:-1].split(' '): \n",
        "          count = max(count, len(SonoriPy(word))) "
      ],
      "execution_count": null,
      "outputs": []
    }
  ]
}